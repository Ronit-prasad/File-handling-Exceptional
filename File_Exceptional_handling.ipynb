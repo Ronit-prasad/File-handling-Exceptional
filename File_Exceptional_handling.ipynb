{
  "nbformat": 4,
  "nbformat_minor": 0,
  "metadata": {
    "colab": {
      "provenance": []
    },
    "kernelspec": {
      "name": "python3",
      "display_name": "Python 3"
    },
    "language_info": {
      "name": "python"
    }
  },
  "cells": [
    {
      "cell_type": "markdown",
      "source": [
        "#Threoy Section"
      ],
      "metadata": {
        "id": "jSVGTGwucaA9"
      }
    },
    {
      "cell_type": "markdown",
      "source": [
        "1: What is the difference between interpreted and compiled languages?\n",
        "  - Compiled languages:\n",
        "    - Code is translated into machine code before execution using a compiler.\n",
        "    - Errors are detected before running the program.\n",
        "    - Example: C, C++, Rust\n",
        "  - Interpreted Languages:\n",
        "    - Code is translated line-by-line during execution by an interpreter.\n",
        "    - Errors are detected while running stopping execution if an issue occurs.\n",
        "    - Example: Python, Javascript, Ruby.\n",
        "\n",
        "2: What is exception handling in Python?\n",
        "  - Exception handling is a mechanism in python that allows a program to handle errors gracefully instead of crashing when something goes wrong. It is done using try-except blocks.\n",
        "\n",
        "3: What is the purpose of the finally block in exception handling?\n",
        "  - The finally block in python is used to specify a block of code that alaways executes, regardless of wheather an exception occurs or not. It is mainly used for cleanup operations, such as closing files.\n",
        "\n",
        "4: What is logging in Python?\n",
        "  - Logging in python is a way to track events that happens while a program runs. It helps in debugging, monitoring and recording important infoemation about the program's execution.\n",
        "\n",
        "5: What is the significance of the __del__ method in Python?\n",
        "  - The __del__ method is a destructor in python, called automatically when an object is about to be destroyed. It is used for cleanup tasks like closing files, releasing memory or disconnecting from a database.\n",
        "\n",
        "6: What is the difference between import and from ... import in Python?\n",
        "  - Import:\n",
        "    - Imports the entire module.\n",
        "    - You must use the module name when accessing functions or variables.\n",
        "  - from ...import:\n",
        "    - Imports specific functions, classes or variables from a module.\n",
        "    - You can use them directly without the module name.\n",
        "\n",
        "7:  How can you handle multiple exceptions in Python?\n",
        "  - In python you can handle multiple exceptions using different approaches to ensure your program doesn't crash unexpectedly.\n",
        "  - You can handle different exceptions separately using multiple except blocks.\n",
        "  - If multiple exceptions require the same handling you can group them in a tuple.\n",
        "\n",
        "8: What is the purpose of the with statement when handling files in Python?\n",
        "  - The with statment is used when working with files to ensure proper resource management. It automatically closes the file once theblock of code is executed, even if an error occurs.\n",
        "\n",
        "9: What is the difference between multithreading and multiprocessing?\n",
        "  - Multithreading:\n",
        "    - Threads share the same memory space\n",
        "    - Best for I/O-bound tasks\n",
        "    - limited by GIL in python, which prevents true parellel execution.\n",
        "    - Example: File operations, API calls\n",
        "  - Multiprocessing:\n",
        "    - Each process runs indepently with seperate memory.\n",
        "    - best for CPU-bound tasks\n",
        "    - Bypasses GIL enabling real parallel execution.\n",
        "    - Example: Image processing.\n",
        "\n",
        "10: What are the advantages of using logging in a program?\n",
        "  - Logging is an essential tool for tracking, debugging and monitoring a program's execution. Instread of relying on print() statments, logging provides a structured way to record events, errors and performance data.\n",
        "\n",
        "11: What is memory management in Python?\n",
        "  - Memory management in python refers to the process of allocating, tracking. and freeing memory during program execution. Python automatically handles memory managemnet using techniques like reference counting.\n",
        "\n",
        "12: What are the basic steps involved in exception handling in Python?\n",
        "  - There are 4 basic steps in exception handling:\n",
        "   - Use try block to detect errors\n",
        "   - use except block to handle errors\n",
        "   - Use else block for code that runs if no exception occurs.\n",
        "   - Use finally blcok for cleanup\n",
        "\n",
        "13: Why is memory management important in Python?\n",
        "  - memory management is crucial in python to ensure efficient resource utilization, prevent memory leaks, and optimize program performance. Since python automatically handles memory allocation and deallocation its importance helps developers write more efficient code.\n",
        "\n",
        "14: What is the role of try and except in exception handling?\n",
        "  - Role of try Block:\n",
        "    - The try block contains code that migght raise an exception\n",
        "    - If an error occurs, execution jumps to the corresponding except block.\n",
        "    - If no error occurs, the except block is skipped.\n",
        "  - Role of except Block:\n",
        "    - The except block handles the error that occurs inside the try block.\n",
        "    - You can catch specific exceptions or use a general exception handler.\n",
        "\n",
        "15: How does Python's garbage collection system work?\n",
        "  - Python's garbage collection system automatically manages memory by reclaming unused objects to prevent memory leaks and optimize performance. It mainly relies on refernece counting and a cyclic garbage collector to free memory.\n",
        "\n",
        "16: What is the purpose of the else block in exception handling?\n",
        "  - In python. the else block in exception handling is used to execute code that should only run if no exceptions occur in the try block.\n",
        "    - Executes only if the try block runs successfully.\n",
        "    - Skips execution if an exception is raised and handled in except.\n",
        "\n",
        "17: What are the common logging levels in Python?\n",
        "  - The common logging function are:-\n",
        "    - Debug: Detailed debugging information.\n",
        "    - Info: General events.\n",
        "    - Warning: Potential issues.\n",
        "\n",
        "18: What is the difference between os.fork() and multiprocessing in Python?\n",
        "  - OS.fork():-\n",
        "    - unix-based only (Linux, Macos)\n",
        "    - Clones parent process\n",
        "    - Shares memory space\n",
        "    - Complex manual management\n",
        "    - Faster low overhead\n",
        "  - Multiprocessing:-\n",
        "    - Cross-platform (Windows,linux)\n",
        "    - Creates a new process with fresh memory\n",
        "    - Seperate memory space\n",
        "    - High level API similer to use\n",
        "    - Slightly slower more overhead\n",
        "\n",
        "19: What is the importance of closing a file in Python?\n",
        "  - When working with files in python, it is crucial to close the file after operations are complete. Falling to close a file can lead to memory leaks, data corruption, or resource exhaustion.\n",
        "\n",
        "20: What is the difference between file.read() and file.readline() in Python?\n",
        "  - File.read():-\n",
        "    - Reads entire file\n",
        "    - Hight memory usage\n",
        "    - Best for small files or controlled byte reading\n",
        "    - Returns a string containing file content.\n",
        "  - File.readline()\n",
        "    - Reads one line at a time\n",
        "    - Low memory usage\n",
        "    - Best for Processing large files line by line\n",
        "    - Returns a string containing one line.\n",
        "\n",
        "21: What is the logging module in Python used for?\n",
        "  - The logging module in python is used for tracking events and recording messages during program execution. It helps developers debug, monitor and analyse program behaviour efficiently.\n",
        "\n",
        "22: What is the os module in Python used for in file handling?\n",
        "  - The OS module in python provides functions to intract with the operating system, including file and directory handling. It allows you to create, rename, delete and manage files and directories efficiently.\n",
        "\n",
        "23: What are the challenges associated with memory management in Python?\n",
        "  - Python has automatic memory management, meaning developers don't have to manually allocate and free memory.\n",
        "    - Gaebage collection overhead:\n",
        "     - Python uses garbage collection to free up unused memory, but it adds processing overhead.\n",
        "     - Example: Manual garbage collection.\n",
        "    - Memory leaks:\n",
        "      - A memory leaks happens when objects are not properly released, leading to increased memory usage.\n",
        "      - Example: Circular reference causing memory leak.\n",
        "\n",
        "24: How do you raise an exception manually in Python?\n",
        "  - In python you can manually raise an exception using the raaise statement.. This is useful when you want to trigger an error based on specific condations in your code.\n",
        "\n",
        "25: Why is it important to use multithreading in certain applications?\n",
        "  - Multithreading:-\n",
        "    - Multithreading is a technique where a program runs multiple threads simultaneously.\n",
        "  - There are many reasons in which multithreading is important:-\n",
        "    - Improves Responsiveness\n",
        "    - Faster Execution in I/O-Bound tasks\n",
        "    - Efficient resources utilization\n",
        "    - Ideal for real-time applications."
      ],
      "metadata": {
        "id": "AshJCkd0ckok"
      }
    },
    {
      "cell_type": "markdown",
      "source": [
        "#Practical Section"
      ],
      "metadata": {
        "id": "lCTrMfsjlky_"
      }
    },
    {
      "cell_type": "code",
      "source": [
        "# 1: How can you open a file for writing in Python and write a string to it?\n",
        "file = open(\"example.txt\",\"w\")\n",
        "file.write(\"Hello Ronit prasad\")\n",
        "file.close()"
      ],
      "metadata": {
        "id": "LrU3qpKAlngx"
      },
      "execution_count": 9,
      "outputs": []
    },
    {
      "cell_type": "code",
      "source": [
        "# 2: Write a Python program to read the contents of a file and print each line?\n",
        "with open(\"example.txt\", \"r\") as file:\n",
        "  for line in file:\n",
        "    print(line.strip())"
      ],
      "metadata": {
        "colab": {
          "base_uri": "https://localhost:8080/"
        },
        "id": "xBKJ11NVmZ-q",
        "outputId": "519db8b8-3255-4bfe-f617-746c68b91768"
      },
      "execution_count": 4,
      "outputs": [
        {
          "output_type": "stream",
          "name": "stdout",
          "text": [
            "Hello Ronit prasad\n"
          ]
        }
      ]
    },
    {
      "cell_type": "code",
      "source": [
        "# 3: How would you handle a case where the file doesn't exist while trying to open it for reading?\n",
        "try:\n",
        "  with open(\"Harsh.txt\", \"r\") as file:\n",
        "    print(file.read())\n",
        "except FileNotFoundError:\n",
        "  print(\"File doesn't exist, please check the filepath and name\")"
      ],
      "metadata": {
        "colab": {
          "base_uri": "https://localhost:8080/"
        },
        "id": "Y2PsuDPtm8Os",
        "outputId": "c4b36600-9eea-418a-8d3e-a96ffe30d7c6"
      },
      "execution_count": 4,
      "outputs": [
        {
          "output_type": "stream",
          "name": "stdout",
          "text": [
            "File doesn't exist, please check the filepath and name\n"
          ]
        }
      ]
    },
    {
      "cell_type": "code",
      "source": [
        "# 4: Write a Python script that reads from one file and writes its content to another file?\n",
        "with open(\"example.txt\", 'r') as source_file, open(\"nww_file.txt\", 'w') as destination_file:\n",
        "  for line in source_file:\n",
        "    destination_file.write(line)\n",
        "print(\"File copied successfully\")"
      ],
      "metadata": {
        "colab": {
          "base_uri": "https://localhost:8080/"
        },
        "id": "zYsYGLc6noI6",
        "outputId": "8a668539-8f5a-43e7-a5ec-d3923940ed22"
      },
      "execution_count": 5,
      "outputs": [
        {
          "output_type": "stream",
          "name": "stdout",
          "text": [
            "File copied successfully\n"
          ]
        }
      ]
    },
    {
      "cell_type": "code",
      "source": [
        "# 5: How would you catch and handle division by zero error in Python?\n",
        "try:\n",
        "  a = 10\n",
        "  b = 0\n",
        "  result = a / b\n",
        "  print(\"Result:\", result)\n",
        "except ZeroDivisionError:\n",
        "  print(\"Error: Division by zero is not allowed\")"
      ],
      "metadata": {
        "colab": {
          "base_uri": "https://localhost:8080/"
        },
        "id": "JfsXTGhpie19",
        "outputId": "50239749-6be2-4ae5-fa92-30962e370fd2"
      },
      "execution_count": 6,
      "outputs": [
        {
          "output_type": "stream",
          "name": "stdout",
          "text": [
            "Error: Division by zero is not allowed\n"
          ]
        }
      ]
    },
    {
      "cell_type": "code",
      "source": [
        "# 6: Write a Python program that logs an error message to a log file when a division by zero exception occurs?\n",
        "import logging\n",
        "logging.basicConfig(\n",
        "    filename=\"error_log.txt\",\n",
        "    level = logging.ERROR,\n",
        "    format = \"%(asctime)s - %(levelname)s - %(message)s\"\n",
        ")\n",
        "def safe_divide(a, b):\n",
        "  try:\n",
        "    result = a / b\n",
        "    return result\n",
        "  except ZeroDivisionError as e:\n",
        "    logging.error(f\"Error: Division by zero attempted. {e}\")\n",
        "    return \"Error: Cannot divide by zero\"\n",
        "num1 = 10\n",
        "num2 = 0\n",
        "result = safe_divide(num1, num2)\n",
        "print(\"Result\", result)\n",
        "print(\"Check 'error_log.txt' for logged errors\")"
      ],
      "metadata": {
        "colab": {
          "base_uri": "https://localhost:8080/"
        },
        "id": "jFzD0a6znkyi",
        "outputId": "f18aea8d-84ab-4485-c33d-a30bc2cbe1bf"
      },
      "execution_count": 7,
      "outputs": [
        {
          "output_type": "stream",
          "name": "stderr",
          "text": [
            "ERROR:root:Error: Division by zero attempted. division by zero\n"
          ]
        },
        {
          "output_type": "stream",
          "name": "stdout",
          "text": [
            "Result Error: Cannot divide by zero\n",
            "Check 'error_log.txt' for logged errors\n"
          ]
        }
      ]
    },
    {
      "cell_type": "code",
      "source": [
        "# 7: How do you log information at different levels (INFO, ERROR, WARNING) in Python using the logging module?\n",
        "import logging\n",
        "logging.basicConfig(\n",
        "    level = logging.DEBUG,\n",
        "    filename = \"app.log\",\n",
        "    filemode = \"a\",\n",
        "    format = \"%(asctime)s - %(levelname)s - %(message)s\"\n",
        ")\n",
        "\n",
        "logging.debug(\"This is a debug message\")\n",
        "logging.info(\"This is an info message\")\n",
        "logging.warning(\"This is a warning message\")\n",
        "logging.error(\"This is an error message\")\n",
        "logging.critical(\"This is a critical message\")"
      ],
      "metadata": {
        "colab": {
          "base_uri": "https://localhost:8080/"
        },
        "id": "QUBUu--_pAxV",
        "outputId": "468f0269-95d3-41c5-8a62-a112a962efeb"
      },
      "execution_count": 8,
      "outputs": [
        {
          "output_type": "stream",
          "name": "stderr",
          "text": [
            "WARNING:root:This is a warning message\n",
            "ERROR:root:This is an error message\n",
            "CRITICAL:root:This is a critical message\n"
          ]
        }
      ]
    },
    {
      "cell_type": "code",
      "source": [
        "# 8: Write a program to handle a file opening error using exception handling?\n",
        "try:\n",
        "  with open(\"non_existent_file.txt\",\"r\") as file:\n",
        "    content = file.read()\n",
        "    print(content)\n",
        "except FileNotFoundError:\n",
        "  print(\"Error: The file was not found Please check the filename\")"
      ],
      "metadata": {
        "colab": {
          "base_uri": "https://localhost:8080/"
        },
        "id": "_uqPtC9hrhE2",
        "outputId": "8fbfa3d0-9bd4-434b-9035-fc08efd87634"
      },
      "execution_count": 9,
      "outputs": [
        {
          "output_type": "stream",
          "name": "stdout",
          "text": [
            "Error: The file was not found Please check the filename\n"
          ]
        }
      ]
    },
    {
      "cell_type": "code",
      "source": [
        "# 9: How can you read a file line by line and store its content in a list in Python?\n",
        "with open(\"example.txt\", \"r\") as file:\n",
        "  lines = file.readlines()\n",
        "print(lines)"
      ],
      "metadata": {
        "colab": {
          "base_uri": "https://localhost:8080/"
        },
        "id": "u4Zm6nYos70K",
        "outputId": "2b3dd400-b5d9-4ea7-e885-fdecf35b74a5"
      },
      "execution_count": 10,
      "outputs": [
        {
          "output_type": "stream",
          "name": "stdout",
          "text": [
            "['Hello Ronit prasad']\n"
          ]
        }
      ]
    },
    {
      "cell_type": "code",
      "source": [
        "# 10: How can you append data to an existing file in Python?\n",
        "with open(\"example.txt\", \"a\") as file:\n",
        "  file.write(\"\\n This is a new line appended to the file.\")\n",
        "print(\"Data appended successfully\")"
      ],
      "metadata": {
        "colab": {
          "base_uri": "https://localhost:8080/"
        },
        "id": "MsYRYP2gtaKA",
        "outputId": "8ad6960b-60ed-4d96-9026-8bf156366ae1"
      },
      "execution_count": 11,
      "outputs": [
        {
          "output_type": "stream",
          "name": "stdout",
          "text": [
            "Data appended successfully\n"
          ]
        }
      ]
    },
    {
      "cell_type": "code",
      "source": [
        "# 11: Write a Python program that uses a try-except block to handle an error when attempting to access a dictionary key that doesn't exist?\n",
        "student_scores = {\n",
        "    \"Ronit\": 80,\n",
        "    \"Aryan\": 66,\n",
        "    \"Asad\": 89\n",
        "}\n",
        "key = \"Raghav\"\n",
        "try:\n",
        "  score = student_scores[key]\n",
        "  print(f\"The score for {key}: {score}\")\n",
        "except KeyError:\n",
        "  print(f\"Error: Key '{key}' Not found in the directory!\")"
      ],
      "metadata": {
        "colab": {
          "base_uri": "https://localhost:8080/"
        },
        "id": "vWloCtJatzeT",
        "outputId": "274faa2a-d07b-4cc0-8095-803e5bee0c4d"
      },
      "execution_count": 13,
      "outputs": [
        {
          "output_type": "stream",
          "name": "stdout",
          "text": [
            "Error: Key 'Raghav' Not found in the directory!\n"
          ]
        }
      ]
    },
    {
      "cell_type": "code",
      "source": [
        "# 12: Write a program that demonstrates using multiple except blocks to handle different types of exceptions?\n",
        "def divide_numbers(a, b):\n",
        "  try:\n",
        "    result = a / b\n",
        "    numbers = [1,2,3]\n",
        "    print(numbers[5])\n",
        "    return result\n",
        "  except ZeroDivisionError:\n",
        "    print(\"Error: Division by zero is not allowed\")\n",
        "  except TypeError:\n",
        "    print(\"Error: List index out of range!\")\n",
        "  except TypeError:\n",
        "    print(\"Error: Invalid data type  used!!\")\n",
        "  except Exception as e:\n",
        "    print(f\"An unexpected error has been occured: {e}\")\n",
        "\n",
        "divide_numbers(10, 0)\n",
        "divide_numbers(10, 2)\n",
        "divide_numbers(\"10\", 2)"
      ],
      "metadata": {
        "colab": {
          "base_uri": "https://localhost:8080/"
        },
        "id": "Gg8uaOeCvmZt",
        "outputId": "23f367a8-9c77-425d-b3a4-c90a0955faa4"
      },
      "execution_count": 14,
      "outputs": [
        {
          "output_type": "stream",
          "name": "stdout",
          "text": [
            "Error: Division by zero is not allowed\n",
            "An unexpected error has been occured: list index out of range\n",
            "Error: List index out of range!\n"
          ]
        }
      ]
    },
    {
      "cell_type": "code",
      "source": [
        "# 13: How would you check if a file exists before attempting to read it in Python?\n",
        "import os\n",
        "file_path = \"example.txt\"\n",
        "if os.path.exists(file_path):\n",
        "  with open(file_path, \"r\") as file:\n",
        "    content = file.read()\n",
        "    print(content)\n",
        "else:\n",
        "  print(\"File does not exists\")"
      ],
      "metadata": {
        "colab": {
          "base_uri": "https://localhost:8080/"
        },
        "id": "WP-2sPp4xQ_G",
        "outputId": "de3e6b18-cff1-45d8-f565-81d47d5d7fb5"
      },
      "execution_count": 15,
      "outputs": [
        {
          "output_type": "stream",
          "name": "stdout",
          "text": [
            "Hello Ronit prasad\n",
            " This is a new line appended to the file.\n"
          ]
        }
      ]
    },
    {
      "cell_type": "code",
      "source": [
        "# 14: Write a program that uses the logging module to log both informational and error messages?\n",
        "import logging\n",
        "\n",
        "logging.basicConfig(\n",
        "    filename=\"app.log\",\n",
        "    level=logging.DEBUG,\n",
        "    format=\"%(asctime)s - %(levelname)s - %(message)s\",\n",
        "    filemode=\"w\",\n",
        ")\n",
        "\n",
        "console_handler = logging.StreamHandler()\n",
        "console_formatter = logging.Formatter(\"%(asctime)s - %(levelname)s - %(message)s\")\n",
        "logging.getLogger().addHandler(logging.StreamHandler())\n",
        "console_logger = logging.getLogger()\n",
        "console_logger.addHandler(logging.StreamHandler())\n",
        "\n",
        "def divide_numbers(a, b):\n",
        "    try:\n",
        "        result = a / b\n",
        "        logging.info(f\"Division successful: {a} / {b} = {result}\")\n",
        "        return result\n",
        "    except ZeroDivisionError as e:\n",
        "        logging.error(\"Error: Division by zero is not allowed!\")\n",
        "        return None\n",
        "    except Exception as e:\n",
        "        logging.error(f\"Unexpected error: {e}\")\n",
        "        return None\n",
        "\n",
        "logging.info(\"Program Started\")\n",
        "print(\"Starting program...\")\n",
        "\n",
        "try:\n",
        "    x, y = 10, 0\n",
        "    logging.info(f\"Trying to divide {x} by {y}\")\n",
        "    result = divide_numbers(x, y)\n",
        "    if result is not None:\n",
        "        print(f\"Result: {result}\")\n",
        "    else:\n",
        "        logging.error(\"Division failed due to an error.\")\n",
        "\n",
        "except Exception as e:\n",
        "    logging.critical(f\"Critical error: {e}\")\n",
        "\n",
        "print(\"Check 'app.log' for the logs.\")"
      ],
      "metadata": {
        "colab": {
          "base_uri": "https://localhost:8080/"
        },
        "id": "ZxBKjqR-yrIR",
        "outputId": "c3dde4b6-d76a-419e-8206-85055b62dc4a"
      },
      "execution_count": 16,
      "outputs": [
        {
          "output_type": "stream",
          "name": "stderr",
          "text": [
            "ERROR:root:Error: Division by zero is not allowed!\n",
            "Error: Division by zero is not allowed!\n",
            "Error: Division by zero is not allowed!\n",
            "ERROR:root:Division failed due to an error.\n",
            "Division failed due to an error.\n",
            "Division failed due to an error.\n"
          ]
        },
        {
          "output_type": "stream",
          "name": "stdout",
          "text": [
            "Starting program...\n",
            "Check 'app.log' for the logs.\n"
          ]
        }
      ]
    },
    {
      "cell_type": "code",
      "source": [
        "# 15: Write a Python program that prints the content of a file and handles the case when the file is empty?\n",
        "import os\n",
        "def read_file(file_path):\n",
        "  try:\n",
        "    if not os.path.exists(file_path):\n",
        "      print(f\"Error: The file '{file_path}' does not exists!\")\n",
        "      return\n",
        "    with open(file_path, \"r\") as file:\n",
        "      content = file.read()\n",
        "      if not content:\n",
        "        print(f\"The file '{file_path}' is empty.\")\n",
        "      else:\n",
        "        print(f\"Contents of '{file_path}':\\n {content}\")\n",
        "  except Exception as e:\n",
        "      print(f\"An  error has been occured: {e}\")\n",
        "file_path = \"example.txt\"\n",
        "read_file(file_path)"
      ],
      "metadata": {
        "colab": {
          "base_uri": "https://localhost:8080/"
        },
        "id": "G73DMiq00OvO",
        "outputId": "d7e0ce55-cb0f-45fb-f6ce-96677b027aba"
      },
      "execution_count": 19,
      "outputs": [
        {
          "output_type": "stream",
          "name": "stdout",
          "text": [
            "Contents of 'example.txt':\n",
            " Hello Ronit prasad\n",
            " This is a new line appended to the file.\n"
          ]
        }
      ]
    },
    {
      "cell_type": "code",
      "source": [
        "pip install memory-profiler"
      ],
      "metadata": {
        "colab": {
          "base_uri": "https://localhost:8080/"
        },
        "id": "T4aLsF104Eu_",
        "outputId": "b01697bb-80df-4813-ee63-7f7e2e42aeaf"
      },
      "execution_count": 21,
      "outputs": [
        {
          "output_type": "stream",
          "name": "stdout",
          "text": [
            "Collecting memory-profiler\n",
            "  Downloading memory_profiler-0.61.0-py3-none-any.whl.metadata (20 kB)\n",
            "Requirement already satisfied: psutil in /usr/local/lib/python3.11/dist-packages (from memory-profiler) (5.9.5)\n",
            "Downloading memory_profiler-0.61.0-py3-none-any.whl (31 kB)\n",
            "Installing collected packages: memory-profiler\n",
            "Successfully installed memory-profiler-0.61.0\n"
          ]
        }
      ]
    },
    {
      "cell_type": "code",
      "source": [
        "# 16: Demonstrate how to use memory profiling to check the memory usage of a small program?\n",
        "import memory_profiler\n",
        "import time\n",
        "\n",
        "def memory_intensive_function():\n",
        "\n",
        "    data = [x ** 2 for x in range(1000000)]\n",
        "    time.sleep(2)\n",
        "    return data\n",
        "mem_usage = memory_profiler.memory_usage(memory_profile := memory_profiler.profile(memory_profiler.memory_usage)(memory_profiler.memory_usage))\n",
        "print(f\"Memory usage: {mem_usage} MB\")"
      ],
      "metadata": {
        "colab": {
          "base_uri": "https://localhost:8080/",
          "height": 1000
        },
        "id": "Mn5j38ew1XYw",
        "outputId": "4783a56b-5bf1-41ba-beb3-0a42022a5fb3"
      },
      "execution_count": 25,
      "outputs": [
        {
          "output_type": "stream",
          "name": "stderr",
          "text": [
            "\n",
            "PYDEV DEBUGGER WARNING:\n",
            "sys.settrace() should not be used when the debugger is being used.\n",
            "This may cause the debugger to stop working correctly.\n",
            "If this is needed, please check: \n",
            "http://pydev.blogspot.com/2007/06/why-cant-pydev-debugger-work-with.html\n",
            "to see how to restore the debug tracing back correctly.\n",
            "Call Location:\n",
            "  File \"/usr/local/lib/python3.11/dist-packages/memory_profiler.py\", line 847, in enable\n",
            "    sys.settrace(self.trace_memory_usage)\n",
            "\n",
            "\n",
            "PYDEV DEBUGGER WARNING:\n",
            "sys.settrace() should not be used when the debugger is being used.\n",
            "This may cause the debugger to stop working correctly.\n",
            "If this is needed, please check: \n",
            "http://pydev.blogspot.com/2007/06/why-cant-pydev-debugger-work-with.html\n",
            "to see how to restore the debug tracing back correctly.\n",
            "Call Location:\n",
            "  File \"/usr/local/lib/python3.11/dist-packages/memory_profiler.py\", line 850, in disable\n",
            "    sys.settrace(self._original_trace_function)\n",
            "\n"
          ]
        },
        {
          "output_type": "stream",
          "name": "stdout",
          "text": [
            "Filename: /usr/local/lib/python3.11/dist-packages/memory_profiler.py\n",
            "\n",
            "Line #    Mem usage    Increment  Occurrences   Line Contents\n",
            "=============================================================\n",
            "   269    308.2 MiB    307.9 MiB           3   def memory_usage(proc=-1, interval=.1, timeout=None, timestamps=False,\n",
            "   270                                                          include_children=False, multiprocess=False, max_usage=False,\n",
            "   271                                                          retval=False, stream=None, backend=None, max_iterations=None):\n",
            "   272                                             \"\"\"\n",
            "   273                                             Return the memory usage of a process or piece of code\n",
            "   274                                         \n",
            "   275                                             Parameters\n",
            "   276                                             ----------\n",
            "   277                                             proc : {int, string, tuple, subprocess.Popen}, optional\n",
            "   278                                                 The process to monitor. Can be given by an integer/string\n",
            "   279                                                 representing a PID, by a Popen object or by a tuple\n",
            "   280                                                 representing a Python function. The tuple contains three\n",
            "   281                                                 values (f, args, kw) and specifies to run the function\n",
            "   282                                                 f(*args, **kw).\n",
            "   283                                                 Set to -1 (default) for current process.\n",
            "   284                                         \n",
            "   285                                             interval : float, optional\n",
            "   286                                                 Interval at which measurements are collected.\n",
            "   287                                         \n",
            "   288                                             timeout : float, optional\n",
            "   289                                                 Maximum amount of time (in seconds) to wait before returning.\n",
            "   290                                         \n",
            "   291                                             max_usage : bool, optional\n",
            "   292                                                 Only return the maximum memory usage (default False)\n",
            "   293                                         \n",
            "   294                                             retval : bool, optional\n",
            "   295                                                 For profiling python functions. Save the return value of the profiled\n",
            "   296                                                 function. Return value of memory_usage becomes a tuple:\n",
            "   297                                                 (mem_usage, retval)\n",
            "   298                                         \n",
            "   299                                             timestamps : bool, optional\n",
            "   300                                                 if True, timestamps of memory usage measurement are collected as well.\n",
            "   301                                         \n",
            "   302                                             include_children : bool, optional\n",
            "   303                                                 if True, sum the memory of all forked processes as well\n",
            "   304                                         \n",
            "   305                                             multiprocess : bool, optional\n",
            "   306                                                 if True, track the memory usage of all forked processes.\n",
            "   307                                         \n",
            "   308                                             stream : File\n",
            "   309                                                 if stream is a File opened with write access, then results are written\n",
            "   310                                                 to this file instead of stored in memory and returned at the end of\n",
            "   311                                                 the subprocess. Useful for long-running processes.\n",
            "   312                                                 Implies timestamps=True.\n",
            "   313                                         \n",
            "   314                                             backend : str, optional\n",
            "   315                                                 Current supported backends: 'psutil', 'psutil_pss', 'psutil_uss', 'posix', 'tracemalloc'\n",
            "   316                                                 If `backend=None` the default is \"psutil\" which measures RSS aka \"Resident Set Size\". \n",
            "   317                                                 For more information on \"psutil_pss\" (measuring PSS) and \"psutil_uss\" please refer to:\n",
            "   318                                                 https://psutil.readthedocs.io/en/latest/index.html?highlight=memory_info#psutil.Process.memory_full_info \n",
            "   319                                         \n",
            "   320                                             max_iterations : int\n",
            "   321                                                 Limits the number of iterations (calls to the process being monitored). Relevant\n",
            "   322                                                 when the process is a python function.\n",
            "   323                                         \n",
            "   324                                             Returns\n",
            "   325                                             -------\n",
            "   326                                             mem_usage : list of floating-point values\n",
            "   327                                                 memory usage, in MiB. It's length is always < timeout / interval\n",
            "   328                                                 if max_usage is given, returns the two elements maximum memory and\n",
            "   329                                                 number of measurements effectuated\n",
            "   330                                             ret : return value of the profiled function\n",
            "   331                                                 Only returned if retval is set to True\n",
            "   332                                             \"\"\"\n",
            "   333    308.2 MiB      0.0 MiB           3       backend = choose_backend(backend)\n",
            "   334    308.2 MiB      0.0 MiB           3       if stream is not None:\n",
            "   335                                                 timestamps = True\n",
            "   336                                         \n",
            "   337    308.2 MiB      0.0 MiB           3       if not max_usage:\n",
            "   338    308.2 MiB      0.0 MiB           3           ret = []\n",
            "   339                                             else:\n",
            "   340                                                 ret = -1\n",
            "   341                                         \n",
            "   342    308.2 MiB      0.0 MiB           3       if timeout is not None:\n",
            "   343                                                 max_iter = int(round(timeout / interval))\n",
            "   344    308.2 MiB      0.0 MiB           3       elif isinstance(proc, int):\n",
            "   345                                                 # external process and no timeout\n",
            "   346    308.2 MiB      0.0 MiB           2           max_iter = 1\n",
            "   347                                             else:\n",
            "   348                                                 # for a Python function wait until it finishes\n",
            "   349    307.9 MiB      0.0 MiB           1           max_iter = float('inf')\n",
            "   350    307.9 MiB      0.0 MiB           1           if max_iterations is not None:\n",
            "   351                                                     max_iter = max_iterations\n",
            "   352                                         \n",
            "   353    308.2 MiB      0.0 MiB           3       if callable(proc):\n",
            "   354    307.9 MiB      0.0 MiB           1           proc = (proc, (), {})\n",
            "   355    308.2 MiB      0.0 MiB           3       if isinstance(proc, (list, tuple)):\n",
            "   356    307.9 MiB      0.0 MiB           1           if len(proc) == 1:\n",
            "   357                                                     f, args, kw = (proc[0], (), {})\n",
            "   358    307.9 MiB      0.0 MiB           1           elif len(proc) == 2:\n",
            "   359                                                     f, args, kw = (proc[0], proc[1], {})\n",
            "   360    307.9 MiB      0.0 MiB           1           elif len(proc) == 3:\n",
            "   361    307.9 MiB      0.0 MiB           1               f, args, kw = (proc[0], proc[1], proc[2])\n",
            "   362                                                 else:\n",
            "   363                                                     raise ValueError\n",
            "   364                                         \n",
            "   365    307.9 MiB      0.0 MiB           1           current_iter = 0\n",
            "   366    308.1 MiB      0.0 MiB           2           while True:\n",
            "   367    308.1 MiB      0.0 MiB           2               current_iter += 1\n",
            "   368    308.1 MiB      0.0 MiB           2               child_conn, parent_conn = Pipe()  # this will store MemTimer's results\n",
            "   369    308.1 MiB      0.0 MiB           4               p = MemTimer(os.getpid(), interval, child_conn, backend,\n",
            "   370    308.1 MiB      0.0 MiB           2                            timestamps=timestamps,\n",
            "   371    308.1 MiB      0.0 MiB           2                            max_usage=max_usage,\n",
            "   372    308.1 MiB      0.0 MiB           2                            include_children=include_children)\n",
            "   373    308.2 MiB      0.2 MiB           2               p.start()\n",
            "   374    308.2 MiB      0.0 MiB           2               parent_conn.recv()  # wait until we start getting memory\n",
            "   375                                         \n",
            "   376                                                     # When there is an exception in the \"proc\" - the (spawned) monitoring processes don't get killed.\n",
            "   377                                                     # Therefore, the whole process hangs indefinitely. Here, we are ensuring that the process gets killed!\n",
            "   378    308.2 MiB      0.0 MiB           2               try:\n",
            "   379    308.3 MiB      0.0 MiB           2                   returned = f(*args, **kw)\n",
            "   380    308.3 MiB      0.0 MiB           2                   parent_conn.send(0)  # finish timing\n",
            "   381    308.3 MiB      0.0 MiB           2                   ret = parent_conn.recv()\n",
            "   382    308.3 MiB      0.0 MiB           2                   n_measurements = parent_conn.recv()\n",
            "   383    308.3 MiB      0.0 MiB           2                   if max_usage:\n",
            "   384                                                             # Convert the one element list produced by MemTimer to a singular value\n",
            "   385                                                             ret = ret[0]\n",
            "   386    308.3 MiB      0.0 MiB           2                   if retval:\n",
            "   387                                                             ret = ret, returned\n",
            "   388                                                     except Exception:\n",
            "   389                                                         parent = psutil.Process(os.getpid())\n",
            "   390                                                         for child in parent.children(recursive=True):\n",
            "   391                                                             os.kill(child.pid, SIGKILL)\n",
            "   392                                                         p.join(0)\n",
            "   393                                                         raise\n",
            "   394                                         \n",
            "   395    308.3 MiB      0.0 MiB           2               p.join(5 * interval)\n",
            "   396                                         \n",
            "   397    308.3 MiB      0.0 MiB           2               if (n_measurements > 4) or (current_iter == max_iter) or (interval < 1e-6):\n",
            "   398    308.3 MiB      0.0 MiB           1                   break\n",
            "   399    308.1 MiB      0.0 MiB           1               interval /= 10.\n",
            "   400    308.2 MiB      0.0 MiB           2       elif isinstance(proc, subprocess.Popen):\n",
            "   401                                                 # external process, launched from Python\n",
            "   402                                                 line_count = 0\n",
            "   403                                                 while True:\n",
            "   404                                                     if not max_usage:\n",
            "   405                                                         mem_usage = _get_memory(\n",
            "   406                                                             proc.pid, backend, timestamps=timestamps,\n",
            "   407                                                             include_children=include_children)\n",
            "   408                                         \n",
            "   409                                                         if mem_usage and stream is not None:\n",
            "   410                                                             stream.write(\"MEM {0:.6f} {1:.4f}\\n\".format(*mem_usage))\n",
            "   411                                         \n",
            "   412                                                             # Write children to the stream file\n",
            "   413                                                             if multiprocess:\n",
            "   414                                                                 for idx, chldmem in _get_child_memory(proc.pid):\n",
            "   415                                                                     stream.write(\"CHLD {0} {1:.6f} {2:.4f}\\n\".format(idx, chldmem, time.time()))\n",
            "   416                                                         else:\n",
            "   417                                                             # Create a nested list with the child memory\n",
            "   418                                                             if multiprocess:\n",
            "   419                                                                 mem_usage = [mem_usage]\n",
            "   420                                                                 for _, chldmem in _get_child_memory(proc.pid):\n",
            "   421                                                                     mem_usage.append(chldmem)\n",
            "   422                                         \n",
            "   423                                                             # Append the memory usage to the return value\n",
            "   424                                                             ret.append(mem_usage)\n",
            "   425                                                     else:\n",
            "   426                                                         ret = max(ret,\n",
            "   427                                                                   _get_memory(\n",
            "   428                                                                       proc.pid, backend, include_children=include_children))\n",
            "   429                                                     time.sleep(interval)\n",
            "   430                                                     line_count += 1\n",
            "   431                                                     # flush every 50 lines. Make 'tail -f' usable on profile file\n",
            "   432                                                     if line_count > 50:\n",
            "   433                                                         line_count = 0\n",
            "   434                                                         if stream is not None:\n",
            "   435                                                             stream.flush()\n",
            "   436                                                     if timeout is not None:\n",
            "   437                                                         max_iter -= 1\n",
            "   438                                                         if max_iter == 0:\n",
            "   439                                                             break\n",
            "   440                                                     if proc.poll() is not None:\n",
            "   441                                                         break\n",
            "   442                                             else:\n",
            "   443                                                 # external process\n",
            "   444    308.2 MiB      0.0 MiB           2           if max_iter == -1:\n",
            "   445                                                     max_iter = 1\n",
            "   446    308.2 MiB      0.0 MiB           2           counter = 0\n",
            "   447    308.3 MiB      0.0 MiB           4           while counter < max_iter:\n",
            "   448    308.2 MiB      0.0 MiB           2               counter += 1\n",
            "   449    308.2 MiB      0.0 MiB           2               if not max_usage:\n",
            "   450    308.2 MiB      0.0 MiB           4                   mem_usage = _get_memory(\n",
            "   451    308.2 MiB      0.0 MiB           2                       proc, backend, timestamps=timestamps,\n",
            "   452    308.2 MiB      0.0 MiB           2                       include_children=include_children)\n",
            "   453    308.2 MiB      0.0 MiB           2                   if stream is not None:\n",
            "   454                                                             stream.write(\"MEM {0:.6f} {1:.4f}\\n\".format(*mem_usage))\n",
            "   455                                         \n",
            "   456                                                             # Write children to the stream file\n",
            "   457                                                             if multiprocess:\n",
            "   458                                                                 for idx, chldmem in _get_child_memory(proc):\n",
            "   459                                                                     stream.write(\"CHLD {0} {1:.6f} {2:.4f}\\n\".format(idx, chldmem, time.time()))\n",
            "   460                                                         else:\n",
            "   461                                                             # Create a nested list with the child memory\n",
            "   462    308.2 MiB      0.0 MiB           2                       if multiprocess:\n",
            "   463                                                                 mem_usage = [mem_usage]\n",
            "   464                                                                 for _, chldmem in _get_child_memory(proc):\n",
            "   465                                                                     mem_usage.append(chldmem)\n",
            "   466                                         \n",
            "   467                                                             # Append the memory usage to the return value\n",
            "   468    308.2 MiB      0.0 MiB           2                       ret.append(mem_usage)\n",
            "   469                                                     else:\n",
            "   470                                                         ret = max([ret,\n",
            "   471                                                                    _get_memory(proc, backend, include_children=include_children)\n",
            "   472                                                                    ])\n",
            "   473                                         \n",
            "   474    308.3 MiB      0.1 MiB           2               time.sleep(interval)\n",
            "   475                                                     # Flush every 50 lines.\n",
            "   476    308.3 MiB      0.0 MiB           2               if counter % 50 == 0 and stream is not None:\n",
            "   477                                                         stream.flush()\n",
            "   478    308.3 MiB      0.0 MiB           3       if stream:\n",
            "   479                                                 return None\n",
            "   480    308.3 MiB      0.0 MiB           3       return ret\n",
            "\n",
            "\n"
          ]
        },
        {
          "output_type": "error",
          "ename": "ValueError",
          "evalue": "",
          "traceback": [
            "\u001b[0;31m---------------------------------------------------------------------------\u001b[0m",
            "\u001b[0;31mValueError\u001b[0m                                Traceback (most recent call last)",
            "\u001b[0;32m<ipython-input-25-41367af3641f>\u001b[0m in \u001b[0;36m<cell line: 0>\u001b[0;34m()\u001b[0m\n\u001b[1;32m      8\u001b[0m     \u001b[0mtime\u001b[0m\u001b[0;34m.\u001b[0m\u001b[0msleep\u001b[0m\u001b[0;34m(\u001b[0m\u001b[0;36m2\u001b[0m\u001b[0;34m)\u001b[0m\u001b[0;34m\u001b[0m\u001b[0;34m\u001b[0m\u001b[0m\n\u001b[1;32m      9\u001b[0m     \u001b[0;32mreturn\u001b[0m \u001b[0mdata\u001b[0m\u001b[0;34m\u001b[0m\u001b[0;34m\u001b[0m\u001b[0m\n\u001b[0;32m---> 10\u001b[0;31m \u001b[0mmem_usage\u001b[0m \u001b[0;34m=\u001b[0m \u001b[0mmemory_profiler\u001b[0m\u001b[0;34m.\u001b[0m\u001b[0mmemory_usage\u001b[0m\u001b[0;34m(\u001b[0m\u001b[0mmemory_profile\u001b[0m \u001b[0;34m:=\u001b[0m \u001b[0mmemory_profiler\u001b[0m\u001b[0;34m.\u001b[0m\u001b[0mprofile\u001b[0m\u001b[0;34m(\u001b[0m\u001b[0mmemory_profiler\u001b[0m\u001b[0;34m.\u001b[0m\u001b[0mmemory_usage\u001b[0m\u001b[0;34m)\u001b[0m\u001b[0;34m(\u001b[0m\u001b[0mmemory_profiler\u001b[0m\u001b[0;34m.\u001b[0m\u001b[0mmemory_usage\u001b[0m\u001b[0;34m)\u001b[0m\u001b[0;34m)\u001b[0m\u001b[0;34m\u001b[0m\u001b[0;34m\u001b[0m\u001b[0m\n\u001b[0m\u001b[1;32m     11\u001b[0m \u001b[0mprint\u001b[0m\u001b[0;34m(\u001b[0m\u001b[0;34mf\"Memory usage: {mem_usage} MB\"\u001b[0m\u001b[0;34m)\u001b[0m\u001b[0;34m\u001b[0m\u001b[0;34m\u001b[0m\u001b[0m\n",
            "\u001b[0;32m/usr/local/lib/python3.11/dist-packages/memory_profiler.py\u001b[0m in \u001b[0;36mmemory_usage\u001b[0;34m(proc, interval, timeout, timestamps, include_children, multiprocess, max_usage, retval, stream, backend, max_iterations)\u001b[0m\n\u001b[1;32m    361\u001b[0m             \u001b[0mf\u001b[0m\u001b[0;34m,\u001b[0m \u001b[0margs\u001b[0m\u001b[0;34m,\u001b[0m \u001b[0mkw\u001b[0m \u001b[0;34m=\u001b[0m \u001b[0;34m(\u001b[0m\u001b[0mproc\u001b[0m\u001b[0;34m[\u001b[0m\u001b[0;36m0\u001b[0m\u001b[0;34m]\u001b[0m\u001b[0;34m,\u001b[0m \u001b[0mproc\u001b[0m\u001b[0;34m[\u001b[0m\u001b[0;36m1\u001b[0m\u001b[0;34m]\u001b[0m\u001b[0;34m,\u001b[0m \u001b[0mproc\u001b[0m\u001b[0;34m[\u001b[0m\u001b[0;36m2\u001b[0m\u001b[0;34m]\u001b[0m\u001b[0;34m)\u001b[0m\u001b[0;34m\u001b[0m\u001b[0;34m\u001b[0m\u001b[0m\n\u001b[1;32m    362\u001b[0m         \u001b[0;32melse\u001b[0m\u001b[0;34m:\u001b[0m\u001b[0;34m\u001b[0m\u001b[0;34m\u001b[0m\u001b[0m\n\u001b[0;32m--> 363\u001b[0;31m             \u001b[0;32mraise\u001b[0m \u001b[0mValueError\u001b[0m\u001b[0;34m\u001b[0m\u001b[0;34m\u001b[0m\u001b[0m\n\u001b[0m\u001b[1;32m    364\u001b[0m \u001b[0;34m\u001b[0m\u001b[0m\n\u001b[1;32m    365\u001b[0m         \u001b[0mcurrent_iter\u001b[0m \u001b[0;34m=\u001b[0m \u001b[0;36m0\u001b[0m\u001b[0;34m\u001b[0m\u001b[0;34m\u001b[0m\u001b[0m\n",
            "\u001b[0;31mValueError\u001b[0m: "
          ]
        }
      ]
    },
    {
      "cell_type": "code",
      "source": [
        "# 17: Write a Python program to create and write a list of numbers to a file, one number per line?\n",
        "def write_numbers_to_file(file_path, numbers):\n",
        "    try:\n",
        "        with open(file_path, \"w\") as file:\n",
        "            for number in numbers:\n",
        "                file.write(f\"{number}\\n\")\n",
        "        print(f\"Numbers successfully written to '{file_path}'.\")\n",
        "    except Exception as e:\n",
        "        print(f\"An error occurred: {e}\")\n",
        "\n",
        "numbers = list(range(1, 11))\n",
        "file_name = \"numbers.txt\"\n",
        "write_numbers_to_file(file_name, numbers)"
      ],
      "metadata": {
        "colab": {
          "base_uri": "https://localhost:8080/"
        },
        "id": "QMnMyBMK373L",
        "outputId": "96781305-cc9b-4b26-f271-aa13587b54aa"
      },
      "execution_count": 2,
      "outputs": [
        {
          "output_type": "stream",
          "name": "stdout",
          "text": [
            "Numbers successfully written to 'numbers.txt'.\n"
          ]
        }
      ]
    },
    {
      "cell_type": "code",
      "source": [
        "# 18: How would you implement a basic logging setup that logs to a file with rotation after 1MB?\n",
        "import logging\n",
        "from logging.handlers import RotatingFileHandler\n",
        "\n",
        "def setup_logger(log_file=\"app.log\"):\n",
        "    logger = logging.getLogger(\"MyLogger\")\n",
        "    logger.setLevel(logging.DEBUG)\n",
        "\n",
        "    handler = RotatingFileHandler(log_file, maxBytes=1024*1024, backupCount=3)\n",
        "    formatter = logging.Formatter('%(asctime)s - %(levelname)s - %(message)s')\n",
        "    handler.setFormatter(formatter)\n",
        "\n",
        "\n",
        "    logger = logging.getLogger()\n",
        "    logger.addHandler(handler)\n",
        "    return logger\n",
        "\n",
        "logger = logging.getLogger(\"MyLogger\")\n",
        "if not logger.hasHandlers():\n",
        "    write_handler = RotatingFileHandler(\"app.log\", maxBytes=1024, backupCount=3)\n",
        "    write_handler.setFormatter(logging.Formatter(\"%(asctime)s - %(levelname)s - %(message)s\"))\n",
        "    logger.addHandler(write_numbers_to_file)\n",
        "    logger.setLevel(logging.INFO)\n",
        "\n",
        "try:\n",
        "    x = 10 / 0\n",
        "except ZeroDivisionError as e:\n",
        "    logging.error(f\"An error occurred: {e}\")\n",
        "\n",
        "logger.info(\"This is an info message.\")\n",
        "logger.warning(\"This is a warning!\")\n",
        "logger.error(\"Something went wrong!\")\n",
        "\n",
        "print(\"Logs are stored in 'app.log'\")\n"
      ],
      "metadata": {
        "colab": {
          "base_uri": "https://localhost:8080/"
        },
        "id": "OfNG-hA0Nx_Z",
        "outputId": "ff714de9-789d-4a48-9f48-45c81da32ed6"
      },
      "execution_count": 3,
      "outputs": [
        {
          "output_type": "stream",
          "name": "stderr",
          "text": [
            "ERROR:root:An error occurred: division by zero\n",
            "WARNING:MyLogger:This is a warning!\n",
            "ERROR:MyLogger:Something went wrong!\n"
          ]
        },
        {
          "output_type": "stream",
          "name": "stdout",
          "text": [
            "Logs are stored in 'app.log'\n"
          ]
        }
      ]
    },
    {
      "cell_type": "code",
      "source": [
        "# 19: Write a program that handles both IndexError and KeyError using a try-except block?\n",
        "import logging\n",
        "from logging.handlers import RotatingFileHandler\n",
        "\n",
        "def setup_logger():\n",
        "    log_formatter = logging.Formatter('%(asctime)s - %(levelname)s - %(message)s')\n",
        "\n",
        "\n",
        "    log_handler = RotatingFileHandler(\"app.log\", maxBytes=1_000_000, backupCount=3)\n",
        "    log_handler.setFormatter(log_formatter)\n",
        "\n",
        "    logger = logging.getLogger(\"MyLogger\")\n",
        "    logger.setLevel(logging.DEBUG)\n",
        "    logger.addHandler(log_handler)\n",
        "    return logger\n",
        "\n",
        "\n",
        "logger = setup_logger()\n",
        "\n",
        "def test_logging():\n",
        "    my_dict = {\"name\": \"Alice\", \"age\": 25}\n",
        "    my_list = [10, 20, 30]\n",
        "\n",
        "    try:\n",
        "        print(\"Accessing an invalid dictionary key:\")\n",
        "        print(my_dict[\"gender\"])\n",
        "\n",
        "        print(\"Accessing an out-of-range index in a list:\")\n",
        "        print(my_list[5])\n",
        "\n",
        "    except KeyError as ke:\n",
        "        logger.error(f\"KeyError: {ke} - The key does not exist in the dictionary.\")\n",
        "\n",
        "    except IndexError as ie:\n",
        "        logger.error(f\"IndexError: {ie} - The index is out of range.\")\n",
        "\n",
        "\n",
        "handle_exceptions()\n",
        "\n",
        "print(\"Logs are saved in 'app.log' and will rotate after reaching 1MB.\")\n"
      ],
      "metadata": {
        "colab": {
          "base_uri": "https://localhost:8080/"
        },
        "id": "NUea-j5cPt8g",
        "outputId": "7169cb64-3e68-4f02-8325-cf79b11d4ec5"
      },
      "execution_count": 6,
      "outputs": [
        {
          "output_type": "stream",
          "name": "stdout",
          "text": [
            "KeyError: 'City' - The key does not exists in the dictionary\n",
            "Logs are saved in 'app.log' and will rotate after reaching 1MB.\n"
          ]
        }
      ]
    },
    {
      "cell_type": "code",
      "source": [
        "# 20: How would you open a file and read its contents using a context manager in Python?\n",
        "file_path = \"example.txt\"\n",
        "try:\n",
        "  with open(file_path,\"r\") as file:\n",
        "    content = file.read()\n",
        "    print(\"File content:\\n\")\n",
        "    print(content)\n",
        "except FileNotFoundError:\n",
        "  print(f\"Error: The file '{file_path}' was not found.\")\n",
        "except Exception as e:\n",
        "  print(f\"An error occured: {e}\")"
      ],
      "metadata": {
        "colab": {
          "base_uri": "https://localhost:8080/"
        },
        "id": "66cvlxShRQXK",
        "outputId": "6e6daa95-1ffb-4acc-97ff-e6fdb0318ba9"
      },
      "execution_count": 7,
      "outputs": [
        {
          "output_type": "stream",
          "name": "stdout",
          "text": [
            "Error: The file 'example.txt' was not found.\n"
          ]
        }
      ]
    },
    {
      "cell_type": "code",
      "source": [
        "# 21: Write a Python program that reads a file and prints the number of occurrences of a specific word?\n",
        "def count_word_occurrences(file_path, word):\n",
        "    try:\n",
        "        with open(file_path, \"r\", encoding=\"utf-8\") as file:\n",
        "            content = file.read().lower()\n",
        "            word_count = content.split().count(word.lower())\n",
        "            return word, word, count_word_occurrences\n",
        "\n",
        "    except FileNotFoundError:\n",
        "        print(f\"Error: The file '{file_path}' was not found.\")\n",
        "        return 0\n",
        "    except Exception as e:\n",
        "        print(f\"An error occurred: {e}\")\n",
        "        return None\n",
        "\n",
        "file_path = \"example.txt\"\n",
        "search_word = \"Python\"\n",
        "\n",
        "count = count_word_occurrences(file_path, search_word)\n",
        "if count is not None:\n",
        "    print(f\"The word '{search_word}' appears {count} times in the file.\")\n"
      ],
      "metadata": {
        "colab": {
          "base_uri": "https://localhost:8080/"
        },
        "id": "Ag0jEDrIUXCl",
        "outputId": "444018be-2bbf-4dda-9cd9-6acc72a40f23"
      },
      "execution_count": 10,
      "outputs": [
        {
          "output_type": "stream",
          "name": "stdout",
          "text": [
            "The word 'Python' appears ('Python', 'Python', <function count_word_occurrences at 0x7d59d985b4c0>) times in the file.\n"
          ]
        }
      ]
    },
    {
      "cell_type": "code",
      "source": [
        "# 22: How can you check if a file is empty before attempting to read its contents?\n",
        "import os\n",
        "def is_file_empty(file_path):\n",
        "  return os.stat(file_path).st_size == 0\n",
        "file_path = \"example.txt\"\n",
        "if os.path.exists(file_path):\n",
        "  if is_file_empty(file_path):\n",
        "    print(f\"The file '{file_path}' is empty.\")\n",
        "  else:\n",
        "    with open(file_path, \"r\", encoding=\"utf-8\") as file:\n",
        "      content = file.read()\n",
        "      print(f\"The file '{file_path}' is not empty.\")\n",
        "else:\n",
        "  print(f\"Error: The file '{file_path}' was not found.\")"
      ],
      "metadata": {
        "colab": {
          "base_uri": "https://localhost:8080/"
        },
        "id": "dCprODnzWvDo",
        "outputId": "c9f236fc-fa6d-46c7-e8e1-c11ca67da11f"
      },
      "execution_count": 11,
      "outputs": [
        {
          "output_type": "stream",
          "name": "stdout",
          "text": [
            "The file 'example.txt' is not empty.\n"
          ]
        }
      ]
    },
    {
      "cell_type": "code",
      "source": [
        "# 23: Write a Python program that writes to a log file when an error occurs during file handling?\n",
        "import logging\n",
        "\n",
        "logging.basicConfig(filename=\"error_log.log\",\n",
        "                    level=logging.ERROR,\n",
        "                    format=\"%(asctime)s - %(levelname)s - %(message)s\")\n",
        "\n",
        "def read_file(file_path):\n",
        "    try:\n",
        "        with open(file_path, \"r\") as file:\n",
        "            content = file.read().strip()\n",
        "            if not content:\n",
        "                logging.warning(f\"The file '{file_path}' is empty.\")\n",
        "                print(\"The file is empty.\")\n",
        "            else:\n",
        "                print(\"File Content:\\n\", content)\n",
        "    except FileNotFoundError as e:\n",
        "        logging.error(f\"FileNotFoundError: {e}\")\n",
        "        print(f\"Error: The file '{file_path}' was not found. Error has been logged.\")\n",
        "    except Exception as e:\n",
        "        logging.error(f\"An error occurred: {e}\")\n",
        "        print(f\"An error occurred: {e}\")\n",
        "\n",
        "file_path = \"sample.txt\"\n",
        "read_file(file_path)\n",
        "\n",
        "print(\"Check 'error.log' for error details if any.\")"
      ],
      "metadata": {
        "colab": {
          "base_uri": "https://localhost:8080/"
        },
        "id": "E2LwCS6lXw8t",
        "outputId": "a0ebd98c-8aee-4b4e-b8b4-1d408ca0c55d"
      },
      "execution_count": 12,
      "outputs": [
        {
          "output_type": "stream",
          "name": "stderr",
          "text": [
            "ERROR:root:FileNotFoundError: [Errno 2] No such file or directory: 'sample.txt'\n"
          ]
        },
        {
          "output_type": "stream",
          "name": "stdout",
          "text": [
            "Error: The file 'sample.txt' was not found. Error has been logged.\n",
            "Check 'error.log' for error details if any.\n"
          ]
        }
      ]
    },
    {
      "cell_type": "code",
      "source": [],
      "metadata": {
        "id": "4vy20JOyY_lv"
      },
      "execution_count": 12,
      "outputs": []
    }
  ]
}